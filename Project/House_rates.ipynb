{
 "cells": [
  {
   "cell_type": "code",
   "execution_count": 21,
   "metadata": {},
   "outputs": [
    {
     "name": "stdout",
     "output_type": "stream",
     "text": [
      "(1460, 81)\n"
     ]
    }
   ],
   "source": [
    "import pandas as pd\n",
    "\n",
    "housing_train=pd.read_csv('dataset/train.csv')\n",
    "initial_shape=housing_train.shape\n",
    "print(initial_shape)"
   ]
  },
  {
   "cell_type": "code",
   "execution_count": 3,
   "metadata": {},
   "outputs": [],
   "source": [
    "#Function for A.1. Dropping columns having more than 70% of null or na values\n",
    "def drop_columns_with_70_per_null(df):\n",
    "    null_count_featues_dict=df.isnull().sum().to_dict()\n",
    "    for k,v in null_count_featues_dict.items():\n",
    "        if v!=0 and v/df.shape[0] > .70:\n",
    "            df.drop(columns=[k],inplace=True)\n",
    "    return df\n",
    "    \n",
    "    "
   ]
  },
  {
   "cell_type": "code",
   "execution_count": 4,
   "metadata": {},
   "outputs": [
    {
     "name": "stdout",
     "output_type": "stream",
     "text": [
      "Missing numerical values in dataframe : 0\n",
      "(1452, 81)\n"
     ]
    },
    {
     "data": {
      "text/html": [
       "<div>\n",
       "<style scoped>\n",
       "    .dataframe tbody tr th:only-of-type {\n",
       "        vertical-align: middle;\n",
       "    }\n",
       "\n",
       "    .dataframe tbody tr th {\n",
       "        vertical-align: top;\n",
       "    }\n",
       "\n",
       "    .dataframe thead th {\n",
       "        text-align: right;\n",
       "    }\n",
       "</style>\n",
       "<table border=\"1\" class=\"dataframe\">\n",
       "  <thead>\n",
       "    <tr style=\"text-align: right;\">\n",
       "      <th></th>\n",
       "      <th>Id</th>\n",
       "      <th>MSSubClass</th>\n",
       "      <th>MSZoning</th>\n",
       "      <th>LotFrontage</th>\n",
       "      <th>LotArea</th>\n",
       "      <th>Street</th>\n",
       "      <th>Alley</th>\n",
       "      <th>LotShape</th>\n",
       "      <th>LandContour</th>\n",
       "      <th>Utilities</th>\n",
       "      <th>...</th>\n",
       "      <th>PoolArea</th>\n",
       "      <th>PoolQC</th>\n",
       "      <th>Fence</th>\n",
       "      <th>MiscFeature</th>\n",
       "      <th>MiscVal</th>\n",
       "      <th>MoSold</th>\n",
       "      <th>YrSold</th>\n",
       "      <th>SaleType</th>\n",
       "      <th>SaleCondition</th>\n",
       "      <th>SalePrice</th>\n",
       "    </tr>\n",
       "  </thead>\n",
       "  <tbody>\n",
       "    <tr>\n",
       "      <th>0</th>\n",
       "      <td>1</td>\n",
       "      <td>60</td>\n",
       "      <td>RL</td>\n",
       "      <td>65.0</td>\n",
       "      <td>8450</td>\n",
       "      <td>Pave</td>\n",
       "      <td>NaN</td>\n",
       "      <td>Reg</td>\n",
       "      <td>Lvl</td>\n",
       "      <td>AllPub</td>\n",
       "      <td>...</td>\n",
       "      <td>0</td>\n",
       "      <td>NaN</td>\n",
       "      <td>NaN</td>\n",
       "      <td>NaN</td>\n",
       "      <td>0</td>\n",
       "      <td>2</td>\n",
       "      <td>2008</td>\n",
       "      <td>WD</td>\n",
       "      <td>Normal</td>\n",
       "      <td>208500</td>\n",
       "    </tr>\n",
       "    <tr>\n",
       "      <th>1</th>\n",
       "      <td>2</td>\n",
       "      <td>20</td>\n",
       "      <td>RL</td>\n",
       "      <td>80.0</td>\n",
       "      <td>9600</td>\n",
       "      <td>Pave</td>\n",
       "      <td>NaN</td>\n",
       "      <td>Reg</td>\n",
       "      <td>Lvl</td>\n",
       "      <td>AllPub</td>\n",
       "      <td>...</td>\n",
       "      <td>0</td>\n",
       "      <td>NaN</td>\n",
       "      <td>NaN</td>\n",
       "      <td>NaN</td>\n",
       "      <td>0</td>\n",
       "      <td>5</td>\n",
       "      <td>2007</td>\n",
       "      <td>WD</td>\n",
       "      <td>Normal</td>\n",
       "      <td>181500</td>\n",
       "    </tr>\n",
       "    <tr>\n",
       "      <th>2</th>\n",
       "      <td>3</td>\n",
       "      <td>60</td>\n",
       "      <td>RL</td>\n",
       "      <td>68.0</td>\n",
       "      <td>11250</td>\n",
       "      <td>Pave</td>\n",
       "      <td>NaN</td>\n",
       "      <td>IR1</td>\n",
       "      <td>Lvl</td>\n",
       "      <td>AllPub</td>\n",
       "      <td>...</td>\n",
       "      <td>0</td>\n",
       "      <td>NaN</td>\n",
       "      <td>NaN</td>\n",
       "      <td>NaN</td>\n",
       "      <td>0</td>\n",
       "      <td>9</td>\n",
       "      <td>2008</td>\n",
       "      <td>WD</td>\n",
       "      <td>Normal</td>\n",
       "      <td>223500</td>\n",
       "    </tr>\n",
       "    <tr>\n",
       "      <th>3</th>\n",
       "      <td>4</td>\n",
       "      <td>70</td>\n",
       "      <td>RL</td>\n",
       "      <td>60.0</td>\n",
       "      <td>9550</td>\n",
       "      <td>Pave</td>\n",
       "      <td>NaN</td>\n",
       "      <td>IR1</td>\n",
       "      <td>Lvl</td>\n",
       "      <td>AllPub</td>\n",
       "      <td>...</td>\n",
       "      <td>0</td>\n",
       "      <td>NaN</td>\n",
       "      <td>NaN</td>\n",
       "      <td>NaN</td>\n",
       "      <td>0</td>\n",
       "      <td>2</td>\n",
       "      <td>2006</td>\n",
       "      <td>WD</td>\n",
       "      <td>Abnorml</td>\n",
       "      <td>140000</td>\n",
       "    </tr>\n",
       "    <tr>\n",
       "      <th>4</th>\n",
       "      <td>5</td>\n",
       "      <td>60</td>\n",
       "      <td>RL</td>\n",
       "      <td>84.0</td>\n",
       "      <td>14260</td>\n",
       "      <td>Pave</td>\n",
       "      <td>NaN</td>\n",
       "      <td>IR1</td>\n",
       "      <td>Lvl</td>\n",
       "      <td>AllPub</td>\n",
       "      <td>...</td>\n",
       "      <td>0</td>\n",
       "      <td>NaN</td>\n",
       "      <td>NaN</td>\n",
       "      <td>NaN</td>\n",
       "      <td>0</td>\n",
       "      <td>12</td>\n",
       "      <td>2008</td>\n",
       "      <td>WD</td>\n",
       "      <td>Normal</td>\n",
       "      <td>250000</td>\n",
       "    </tr>\n",
       "  </tbody>\n",
       "</table>\n",
       "<p>5 rows × 81 columns</p>\n",
       "</div>"
      ],
      "text/plain": [
       "   Id  MSSubClass MSZoning  LotFrontage  LotArea Street Alley LotShape  \\\n",
       "0   1          60       RL         65.0     8450   Pave   NaN      Reg   \n",
       "1   2          20       RL         80.0     9600   Pave   NaN      Reg   \n",
       "2   3          60       RL         68.0    11250   Pave   NaN      IR1   \n",
       "3   4          70       RL         60.0     9550   Pave   NaN      IR1   \n",
       "4   5          60       RL         84.0    14260   Pave   NaN      IR1   \n",
       "\n",
       "  LandContour Utilities    ...     PoolArea PoolQC Fence MiscFeature MiscVal  \\\n",
       "0         Lvl    AllPub    ...            0    NaN   NaN         NaN       0   \n",
       "1         Lvl    AllPub    ...            0    NaN   NaN         NaN       0   \n",
       "2         Lvl    AllPub    ...            0    NaN   NaN         NaN       0   \n",
       "3         Lvl    AllPub    ...            0    NaN   NaN         NaN       0   \n",
       "4         Lvl    AllPub    ...            0    NaN   NaN         NaN       0   \n",
       "\n",
       "  MoSold YrSold  SaleType  SaleCondition  SalePrice  \n",
       "0      2   2008        WD         Normal     208500  \n",
       "1      5   2007        WD         Normal     181500  \n",
       "2      9   2008        WD         Normal     223500  \n",
       "3      2   2006        WD        Abnorml     140000  \n",
       "4     12   2008        WD         Normal     250000  \n",
       "\n",
       "[5 rows x 81 columns]"
      ]
     },
     "execution_count": 4,
     "metadata": {},
     "output_type": "execute_result"
    }
   ],
   "source": [
    "#A. Handling missing quantitative values\n",
    "\n",
    "#populating LotFrontage by median as it more robust and less sensitive to outliers, quantative value\n",
    "housing_train['LotFrontage'].fillna(value=housing_train['LotFrontage'].median(),inplace=True)\n",
    "\n",
    "#MasVnrArea - filling missing values is dependent on MasVnrType as per dataset (when the value of MasVnrType is None, MasVnrArea is zero)\n",
    "#But as the both vlues are NA it is better to just delete as its a small number as 8. (Also I see these houses are very old from 1975)\n",
    "housing_train=housing_train[pd.notnull(housing_train['MasVnrArea'])]\n",
    "\n",
    "#GarageYrBlt - filling by median\n",
    "housing_train['GarageYrBlt'].fillna(value=housing_train['GarageYrBlt'].median(),inplace=True)\n",
    "\n",
    "#final check for quantitative values\n",
    "print(\"Missing numerical values in dataframe : {}\".format(housing_train.select_dtypes(exclude='object').isnull().sum().sum()))\n",
    "\n",
    "print(housing_train.shape)\n",
    "housing_train.head()\n",
    "\n",
    "\n"
   ]
  },
  {
   "cell_type": "code",
   "execution_count": null,
   "metadata": {},
   "outputs": [],
   "source": []
  },
  {
   "cell_type": "code",
   "execution_count": 5,
   "metadata": {},
   "outputs": [
    {
     "name": "stdout",
     "output_type": "stream",
     "text": [
      "columns dropped after \"A.1. Dropping columns having more than 70% of null or na values\"  = 4\n",
      "(1452, 77)\n"
     ]
    }
   ],
   "source": [
    "\n",
    "\n",
    "#A. Handling categorical features\n",
    "\n",
    "#A.1. Dropping columns having more than 70% of null or na values, as they do not contribute for prediction\n",
    "housing_train_A1=drop_columns_with_70_per_null(housing_train) #dropped 4 columns\n",
    "print ('columns dropped after \"A.1. Dropping columns having more than 70% of null or na values\"  = {}'.format(initial_shape[1]-housing_train_A1.shape[1]))\n",
    "shape_1=housing_train_A1.shape\n",
    "print(shape_1)\n",
    "#housing_train_A1.select_dtypes(include='object').isna().any().tolist()\n",
    "#housing_train_A1.select_dtypes(include='object').isnull().sum()\n",
    "\n",
    "\n"
   ]
  },
  {
   "cell_type": "code",
   "execution_count": 6,
   "metadata": {},
   "outputs": [
    {
     "name": "stdout",
     "output_type": "stream",
     "text": [
      "MSZoning 5\n",
      "Street 2\n",
      "LotShape 4\n",
      "LandContour 4\n",
      "Utilities 2\n",
      "LotConfig 5\n",
      "LandSlope 3\n",
      "Neighborhood 25\n",
      "Condition1 9\n",
      "Condition2 8\n",
      "BldgType 5\n",
      "HouseStyle 8\n",
      "RoofStyle 6\n",
      "RoofMatl 8\n",
      "Exterior1st 15\n",
      "Exterior2nd 16\n",
      "MasVnrType 4\n",
      "ExterQual 4\n",
      "ExterCond 5\n",
      "Foundation 6\n",
      "BsmtQual 4\n",
      "BsmtCond 4\n",
      "BsmtExposure 4\n",
      "BsmtFinType1 6\n",
      "BsmtFinType2 6\n",
      "Heating 6\n",
      "HeatingQC 5\n",
      "CentralAir 2\n",
      "Electrical 5\n",
      "KitchenQual 4\n",
      "Functional 7\n",
      "FireplaceQu 5\n",
      "GarageType 6\n",
      "GarageFinish 3\n",
      "GarageQual 5\n",
      "GarageCond 5\n",
      "PavedDrive 3\n",
      "SaleType 9\n",
      "SaleCondition 6\n",
      "(1452, 77)\n"
     ]
    }
   ],
   "source": [
    "#A.2 checking if any feature have more than 100 unique values as it can add to many dimensions if one hot coding is done\n",
    "\n",
    "max_dimensions=100\n",
    "for col in housing_train_A1.select_dtypes(include='object').columns:\n",
    "   print(col,housing_train_A1[col].nunique())\n",
    "   if housing_train_A1[col].nunique() > max_dimensions:\n",
    "        print (\"dropped : {}\".format(col))\n",
    "        housing_train_A1.drop(columns=[col],inplace=True)\n",
    "print(housing_train_A1.shape)\n",
    "#No columns were dropped in this scenario, but this is very critical check otherwise we will end up adding 100's of new columns"
   ]
  },
  {
   "cell_type": "code",
   "execution_count": 6,
   "metadata": {},
   "outputs": [
    {
     "data": {
      "text/plain": [
       "'\\nThinking for this approach but not sure as of now\\n\\n#B.1 Approach we are trying to use is predicting the missing values using KNN algorithm, as it seems to be the\\n#most suitable approach rather than just keeping the unkown or deleting some values\\n\\nfrom sklearn.neighbors import KNeighborsClassifier\\nimport math\\n\\ntrain=housing_train_A1[housing_train_A1[\\'FireplaceQu\\'].notnull()]\\ntest=housing_train_A1[housing_train_A1[\\'FireplaceQu\\'].isnull()]\\n#train_x=train.drop(columns=[\\'id\\',\\'FireplaceQu\\'])\\n\\nif y.shape[0]+x.shape[0] == shape_1[0]:\\n    print(\"No missing data\")\\n\\n#Deciding kvalue by sqrt of n and keeping it odd\\nk= math.floor(math.sqrt(x.shape[0])) if math.floor(math.sqrt(x.shape[0])) % 2 !=0 else math.ceil(math.sqrt(x.shape[0])) \\nprint(\"k-value for KNN: {}\".format(k))\\ntrain_x=train.drop(columns=[\\'Id\\',\\'FireplaceQu\\'])\\ntrain_y=train[\\'FireplaceQu\\']\\nmodel = KNeighborsClassifier(n_neighbors=k)\\nmodel.fit(train_x,train_y)\\n\\n#knn_impute(target=df[\\'Age\\'], attributes=df.drop([\\'Age\\', \\'PassengerId\\'], 1),\\n#                                    aggregation_method=\"median\", k_neighbors=10, numeric_distance=\\'euclidean\\',\\n#                                    categorical_distance=\\'hamming\\', missing_neighbors_threshold=0.8)\\n'"
      ]
     },
     "execution_count": 6,
     "metadata": {},
     "output_type": "execute_result"
    }
   ],
   "source": [
    "'''\n",
    "Thinking for this approach but not sure as of now\n",
    "\n",
    "#B.1 Approach we are trying to use is predicting the missing values using KNN algorithm, as it seems to be the\n",
    "#most suitable approach rather than just keeping the unkown or deleting some values\n",
    "\n",
    "from sklearn.neighbors import KNeighborsClassifier\n",
    "import math\n",
    "\n",
    "train=housing_train_A1[housing_train_A1['FireplaceQu'].notnull()]\n",
    "test=housing_train_A1[housing_train_A1['FireplaceQu'].isnull()]\n",
    "#train_x=train.drop(columns=['id','FireplaceQu'])\n",
    "\n",
    "if y.shape[0]+x.shape[0] == shape_1[0]:\n",
    "    print(\"No missing data\")\n",
    "\n",
    "#Deciding kvalue by sqrt of n and keeping it odd\n",
    "k= math.floor(math.sqrt(x.shape[0])) if math.floor(math.sqrt(x.shape[0])) % 2 !=0 else math.ceil(math.sqrt(x.shape[0])) \n",
    "print(\"k-value for KNN: {}\".format(k))\n",
    "train_x=train.drop(columns=['Id','FireplaceQu'])\n",
    "train_y=train['FireplaceQu']\n",
    "model = KNeighborsClassifier(n_neighbors=k)\n",
    "model.fit(train_x,train_y)\n",
    "\n",
    "#knn_impute(target=df['Age'], attributes=df.drop(['Age', 'PassengerId'], 1),\n",
    "#                                    aggregation_method=\"median\", k_neighbors=10, numeric_distance='euclidean',\n",
    "#                                    categorical_distance='hamming', missing_neighbors_threshold=0.8)\n",
    "'''"
   ]
  },
  {
   "cell_type": "code",
   "execution_count": 7,
   "metadata": {},
   "outputs": [
    {
     "name": "stdout",
     "output_type": "stream",
     "text": [
      "0 BsmtQual U0\n",
      "1 BsmtCond U1\n",
      "2 BsmtExposure U2\n",
      "3 BsmtFinType1 U3\n",
      "4 BsmtFinType2 U4\n",
      "5 Electrical U5\n",
      "6 FireplaceQu U6\n",
      "7 GarageType U7\n",
      "8 GarageFinish U8\n",
      "9 GarageQual U9\n",
      "10 GarageCond U10\n"
     ]
    },
    {
     "data": {
      "text/plain": [
       "MSZoning         0\n",
       "Street           0\n",
       "LotShape         0\n",
       "LandContour      0\n",
       "Utilities        0\n",
       "LotConfig        0\n",
       "LandSlope        0\n",
       "Neighborhood     0\n",
       "Condition1       0\n",
       "Condition2       0\n",
       "BldgType         0\n",
       "HouseStyle       0\n",
       "RoofStyle        0\n",
       "RoofMatl         0\n",
       "Exterior1st      0\n",
       "Exterior2nd      0\n",
       "MasVnrType       0\n",
       "ExterQual        0\n",
       "ExterCond        0\n",
       "Foundation       0\n",
       "BsmtQual         0\n",
       "BsmtCond         0\n",
       "BsmtExposure     0\n",
       "BsmtFinType1     0\n",
       "BsmtFinType2     0\n",
       "Heating          0\n",
       "HeatingQC        0\n",
       "CentralAir       0\n",
       "Electrical       0\n",
       "KitchenQual      0\n",
       "Functional       0\n",
       "FireplaceQu      0\n",
       "GarageType       0\n",
       "GarageFinish     0\n",
       "GarageQual       0\n",
       "GarageCond       0\n",
       "PavedDrive       0\n",
       "SaleType         0\n",
       "SaleCondition    0\n",
       "dtype: int64"
      ]
     },
     "execution_count": 7,
     "metadata": {},
     "output_type": "execute_result"
    }
   ],
   "source": [
    "#B Handling missing categorical values\n",
    "#As of now putting unknown class to all features as U1,U2 ... Un for features F1,F2 ... Fn where Fi are having any missing values\n",
    "#The idea of populating the missing classes ot labels so that we can proceed with one hot encoding. And can revisit these \n",
    "#columns if the preidiction accuracy is good\n",
    "\n",
    "#columns having null values\n",
    "housing_train_A1_cat=housing_train_A1.select_dtypes(include='object')\n",
    "nan_columns=housing_train_A1_cat.columns[housing_train_A1_cat.isna().any()].tolist()\n",
    "\n",
    "for iter,cat in enumerate(nan_columns):\n",
    "    unknown_class_name=\"U\"+str(iter)\n",
    "    print (iter,cat,unknown_class_name)\n",
    "    housing_train_A1[cat].fillna(value=unknown_class_name,inplace=True)\n",
    "\n",
    "housing_train_A1.select_dtypes(include='object').isnull().sum()"
   ]
  },
  {
   "cell_type": "code",
   "execution_count": 8,
   "metadata": {},
   "outputs": [
    {
     "data": {
      "text/plain": [
       "'\\n\\nif feature_null.shape[0]+feature_notnull.shape[0] == shape_1[0]:\\n    print(\"No missing data\")\\nenc.fit(feature_notnull[[\\'FireplaceQu\\']])\\nenc.categories_\\nsparse_out=enc.transform(feature_notnull[[\\'FireplaceQu\\']])\\nprint(sparse_out)\\n\\nfeature_notnull.head()\\n\\none_category_df=housing_train_A1.drop(columns=housing_train_A1.select_dtypes(include=\\'object\\').drop(columns=[\\'FireplaceQu\\']).columns)\\nfeature_notnull=one_category_df[housing_train_A1.FireplaceQu.notnull()]\\nfeature_null=one_category_df[housing_train_A1.FireplaceQu.isnull()]\\nif feature_null.shape[0]+feature_notnull.shape[0] == shape_1[0]:\\n    print(\"No missing data\")\\nenc.fit(feature_notnull)\\nenc.categories_\\nsparse_out=enc.transform(feature_notnull)\\nprint(sparse_out)\\n'"
      ]
     },
     "execution_count": 8,
     "metadata": {},
     "output_type": "execute_result"
    }
   ],
   "source": [
    "'''\n",
    "\n",
    "if feature_null.shape[0]+feature_notnull.shape[0] == shape_1[0]:\n",
    "    print(\"No missing data\")\n",
    "enc.fit(feature_notnull[['FireplaceQu']])\n",
    "enc.categories_\n",
    "sparse_out=enc.transform(feature_notnull[['FireplaceQu']])\n",
    "print(sparse_out)\n",
    "\n",
    "feature_notnull.head()\n",
    "\n",
    "one_category_df=housing_train_A1.drop(columns=housing_train_A1.select_dtypes(include='object').drop(columns=['FireplaceQu']).columns)\n",
    "feature_notnull=one_category_df[housing_train_A1.FireplaceQu.notnull()]\n",
    "feature_null=one_category_df[housing_train_A1.FireplaceQu.isnull()]\n",
    "if feature_null.shape[0]+feature_notnull.shape[0] == shape_1[0]:\n",
    "    print(\"No missing data\")\n",
    "enc.fit(feature_notnull)\n",
    "enc.categories_\n",
    "sparse_out=enc.transform(feature_notnull)\n",
    "print(sparse_out)\n",
    "'''"
   ]
  },
  {
   "cell_type": "code",
   "execution_count": 8,
   "metadata": {},
   "outputs": [
    {
     "name": "stdout",
     "output_type": "stream",
     "text": [
      "transformed df : (1452, 250)\n",
      "<class 'numpy.ndarray'>\n",
      "<class 'pandas.core.frame.DataFrame'>\n",
      "(1452, 250)\n",
      "after concat : (1444, 327)\n",
      "(1444, 287)\n"
     ]
    }
   ],
   "source": [
    "#C. OneHotEncoder to bring categorical values to numerical scale\n",
    "\n",
    "from sklearn.preprocessing import OneHotEncoder\n",
    "enc = OneHotEncoder()\n",
    "df_transformed=enc.fit_transform(housing_train_A1.select_dtypes(include='object')).toarray()\n",
    "\n",
    "print(\"transformed df : {}\" .format(df_transformed.shape))\n",
    "print(type(df_transformed))\n",
    "new_housing_train=pd.DataFrame(data=df_transformed)\n",
    "print(type(new_housing_train))\n",
    "print(new_housing_train.shape)\n",
    "new_housing_train.head()\n",
    "full_housing_train=pd.concat([housing_train_A1,new_housing_train],axis=1,join=\"inner\")\n",
    "print(\"after concat : {}\" .format(full_housing_train.shape))\n",
    "#generating categorical column list\n",
    "cat_features= housing_train_A1.dtypes==object\n",
    "cat_col=[]\n",
    "for colu in housing_train_A1.select_dtypes(include='object').columns:\n",
    "    cat_col.append(colu)\n",
    "\n",
    "#deleting old original columns\n",
    "full_housing_train.drop(columns=cat_col,inplace=True)\n",
    "\n",
    "#deleting id column as it does not have any significance\n",
    "full_housing_train.drop(columns='Id',inplace=True)\n",
    "\n",
    "print(full_housing_train.shape)\n",
    "\n"
   ]
  },
  {
   "cell_type": "code",
   "execution_count": 9,
   "metadata": {
    "scrolled": true
   },
   "outputs": [
    {
     "name": "stdout",
     "output_type": "stream",
     "text": [
      "(287, 287)\n"
     ]
    },
    {
     "data": {
      "text/plain": [
       "array([ True,  True,  True,  True,  True,  True,  True,  True,  True,\n",
       "        True,  True,  True,  True,  True,  True,  True,  True,  True,\n",
       "        True,  True,  True,  True,  True,  True,  True,  True,  True,\n",
       "        True,  True,  True,  True,  True,  True,  True,  True,  True,\n",
       "        True,  True,  True,  True,  True,  True,  True,  True,  True,\n",
       "        True,  True,  True,  True,  True,  True,  True,  True,  True,\n",
       "        True,  True,  True,  True,  True,  True,  True,  True,  True,\n",
       "        True,  True,  True,  True,  True,  True,  True,  True,  True,\n",
       "        True,  True,  True,  True,  True,  True,  True,  True,  True,\n",
       "        True,  True,  True,  True,  True,  True,  True,  True,  True,\n",
       "        True,  True,  True,  True,  True,  True,  True,  True,  True,\n",
       "        True,  True,  True,  True,  True,  True,  True,  True,  True,\n",
       "        True,  True,  True,  True,  True,  True,  True,  True,  True,\n",
       "        True,  True,  True,  True,  True,  True,  True,  True,  True,\n",
       "        True,  True,  True,  True,  True,  True,  True,  True,  True,\n",
       "        True,  True,  True,  True,  True,  True,  True,  True,  True,\n",
       "        True,  True,  True,  True,  True,  True,  True,  True,  True,\n",
       "        True,  True,  True,  True,  True,  True,  True,  True,  True,\n",
       "        True,  True,  True,  True,  True,  True,  True,  True,  True,\n",
       "        True,  True,  True,  True,  True,  True,  True,  True,  True,\n",
       "        True,  True,  True,  True,  True,  True,  True,  True,  True,\n",
       "        True,  True,  True,  True,  True,  True,  True,  True,  True,\n",
       "        True,  True,  True,  True,  True,  True,  True,  True,  True,\n",
       "        True,  True,  True,  True,  True,  True,  True,  True,  True,\n",
       "        True,  True,  True,  True,  True,  True,  True,  True,  True,\n",
       "        True,  True,  True,  True,  True,  True,  True,  True,  True,\n",
       "        True,  True,  True,  True,  True,  True,  True,  True,  True,\n",
       "        True,  True,  True,  True,  True,  True,  True,  True,  True,\n",
       "        True,  True,  True,  True,  True,  True,  True,  True,  True,\n",
       "        True,  True,  True,  True,  True,  True,  True,  True,  True,\n",
       "        True,  True,  True,  True,  True,  True,  True,  True,  True,\n",
       "        True,  True,  True,  True,  True,  True,  True,  True])"
      ]
     },
     "execution_count": 9,
     "metadata": {},
     "output_type": "execute_result"
    }
   ],
   "source": [
    "'''techniques for dimension reduction\n",
    "1. check corr and select one of the two features if correlation is high\n",
    "2. check p-value, with alternate hypothesis as there is relation between the given two attributes\n",
    "3. PCA\n",
    "'''\n",
    "import seaborn as sns\n",
    "import numpy as np\n",
    "\n",
    "cor=full_housing_train.corr()\n",
    "#sns.heatmap(cor)\n",
    "cor_abs=cor.abs()\n",
    "print(cor_abs.shape)\n",
    "columns = np.full((cor.shape[0],), True, dtype=bool)\n",
    "#cor_abs\n",
    "columns"
   ]
  },
  {
   "cell_type": "code",
   "execution_count": 10,
   "metadata": {
    "scrolled": true
   },
   "outputs": [],
   "source": [
    "#taking predictor at first position\n",
    "SalePrice = full_housing_train['SalePrice']\n",
    "full_housing_train.drop(labels=['SalePrice'], axis=1,inplace = True)\n",
    "full_housing_train.insert(0, 'SalePrice', SalePrice)\n",
    "full_housing_train.head()\n",
    "\n",
    "\n",
    "for i in range(cor_abs.shape[0]):\n",
    "    for j in range(i+1,cor_abs[0].shape[0]):\n",
    "        if cor_abs.iloc[i][j] > 0.7:\n",
    "            #print(cor_abs[i][j])\n",
    "            if columns[j]:\n",
    "                columns[j]=False\n",
    "\n",
    "true_columns=full_housing_train.columns[columns]\n",
    "full_housing_train=full_housing_train[true_columns]\n",
    "\n",
    "\n",
    "#full_housing_train.shape\n",
    "#Correlation reduced 12 features keeping the threshold as 0.7(This threshold is configurable and we an change based on prediction accuracy)"
   ]
  },
  {
   "cell_type": "code",
   "execution_count": 14,
   "metadata": {},
   "outputs": [
    {
     "name": "stderr",
     "output_type": "stream",
     "text": [
      "C:\\Users\\akash\\Anaconda3\\lib\\site-packages\\statsmodels\\compat\\pandas.py:56: FutureWarning: The pandas.core.datetools module is deprecated and will be removed in a future version. Please use the pandas.tseries module instead.\n",
      "  from pandas.core import datetools\n"
     ]
    },
    {
     "name": "stdout",
     "output_type": "stream",
     "text": [
      "['MSSubClass', 'LotArea', 'OverallQual', 'OverallCond', 'YearBuilt', 'YearRemodAdd', 'MasVnrArea', 'BsmtFinSF1', 'TotalBsmtSF', '1stFlrSF', '2ndFlrSF', 'BsmtFullBath', 'FullBath', 'BedroomAbvGr', 'KitchenAbvGr', 'TotRmsAbvGrd', 'Fireplaces', 'GarageCars', 'WoodDeckSF', 'ScreenPorch', 41, 53, 93, 101, 103, 146, 149, 176, 194, 195]\n"
     ]
    }
   ],
   "source": [
    "#If we want to use the multiple linear regresson model, we are checking the linear relaton of predictor with the independent variables\n",
    "cor_abs[0].shape[0]\n",
    "full_housing_train_multi_var=full_housing_train.copy(deep=True)\n",
    "\n",
    "'''\n",
    "H0: There is no relation between Y and X\n",
    "Ha: Y i depedent on X\n",
    "if pvalue is less than significance level then reject null hypotheses\n",
    "\n",
    "i.e. if pvalue > 0.05 we do need the columns\n",
    "\n",
    "'''\n",
    "import statsmodels.api as sm\n",
    "\n",
    "y=full_housing_train_multi_var.iloc[:,0]\n",
    "X=full_housing_train_multi_var.iloc[:,1:]\n",
    "\n",
    "#Adding constant column of ones, mandatory for sm.OLS model\n",
    "X_1 = sm.add_constant(X)\n",
    "#Fitting sm.OLS model\n",
    "model = sm.OLS(y,X_1).fit()\n",
    "model.pvalues\n",
    "\n",
    "\n",
    "#Backward Elimination\n",
    "cols = list(X.columns)\n",
    "pmax = 1\n",
    "while (len(cols)>0):\n",
    "    p= []\n",
    "    X_1 = X[cols]\n",
    "    X_1 = sm.add_constant(X_1)\n",
    "    model = sm.OLS(y,X_1).fit()\n",
    "    p = pd.Series(model.pvalues.values[1:],index = cols)      \n",
    "    pmax = max(p)\n",
    "    feature_with_p_max = p.idxmax()\n",
    "    if(pmax>0.05):\n",
    "        cols.remove(feature_with_p_max)\n",
    "    else:\n",
    "        break\n",
    "selected_features_BE = cols\n",
    "print(selected_features_BE)"
   ]
  },
  {
   "cell_type": "code",
   "execution_count": 22,
   "metadata": {},
   "outputs": [
    {
     "name": "stdout",
     "output_type": "stream",
     "text": [
      "Mean Absolute Error: 19616.941687116112\n",
      "Mean Squared Error: 633229542.2057436\n",
      "Root Mean Squared Error: 25164.052579140418\n"
     ]
    }
   ],
   "source": [
    "#We can say that this technique has reduced the error of Linear regression by significant number but still not to the par.\n",
    "\n",
    "#Applying multiple linear regression model\n",
    "from sklearn.model_selection import train_test_split \n",
    "from sklearn.linear_model import LinearRegression\n",
    "\n",
    "#1. Make feature matrix and predictor separate\n",
    "y=full_housing_train_multi_var.iloc[:,0].values\n",
    "X=full_housing_train_multi_var[selected_features_BE].values\n",
    "\n",
    "#2. train_test_split\n",
    "X_train, X_test, y_train, y_test = train_test_split(X, y, test_size=0.2, random_state=0)\n",
    "\n",
    "#3. Model\n",
    "regressor = LinearRegression()  \n",
    "\n",
    "#4. Training\n",
    "regressor.fit(X_train, y_train)\n",
    "\n",
    "y_pred = regressor.predict(X_test)\n",
    "\n",
    "from sklearn import metrics\n",
    "\n",
    "\n",
    "print('Mean Absolute Error:', metrics.mean_absolute_error(y_test, y_pred))  \n",
    "print('Mean Squared Error:', metrics.mean_squared_error(y_test, y_pred))  \n",
    "print('Root Mean Squared Error:', np.sqrt(metrics.mean_squared_error(y_test, y_pred)))"
   ]
  },
  {
   "cell_type": "code",
   "execution_count": 23,
   "metadata": {},
   "outputs": [
    {
     "name": "stdout",
     "output_type": "stream",
     "text": [
      "-993090.513876671\n",
      "[-1.69963891e+02  2.64591832e-01  1.67748751e+04  3.23596133e+03\n",
      "  2.74106605e+02  2.12424092e+02  3.43120876e+01  7.36857907e+00\n",
      "  6.82321824e+00  4.78188336e+01  4.56455857e+01  9.55692054e+03\n",
      "  5.29165555e+03 -1.05909800e+04 -1.86824573e+04  5.85160202e+03\n",
      "  3.19446762e+03  1.19708396e+04  2.84850261e+01  5.91709211e+01\n",
      " -1.52731861e+04 -2.37556910e+04  4.52905759e+04  1.46007625e+05\n",
      " -8.37245464e+03 -6.62386476e+03 -1.20516304e+04 -3.17537894e+04\n",
      " -1.06942541e+04 -1.00587203e+04]\n"
     ]
    }
   ],
   "source": [
    "#To retrieve the intercept:\n",
    "print(regressor.intercept_)\n",
    "#For retrieving the slope:\n",
    "print(regressor.coef_)"
   ]
  },
  {
   "cell_type": "code",
   "execution_count": 24,
   "metadata": {},
   "outputs": [
    {
     "data": {
      "text/html": [
       "<div>\n",
       "<style scoped>\n",
       "    .dataframe tbody tr th:only-of-type {\n",
       "        vertical-align: middle;\n",
       "    }\n",
       "\n",
       "    .dataframe tbody tr th {\n",
       "        vertical-align: top;\n",
       "    }\n",
       "\n",
       "    .dataframe thead th {\n",
       "        text-align: right;\n",
       "    }\n",
       "</style>\n",
       "<table border=\"1\" class=\"dataframe\">\n",
       "  <thead>\n",
       "    <tr style=\"text-align: right;\">\n",
       "      <th></th>\n",
       "      <th>Actual</th>\n",
       "      <th>Predicted</th>\n",
       "    </tr>\n",
       "  </thead>\n",
       "  <tbody>\n",
       "    <tr>\n",
       "      <th>0</th>\n",
       "      <td>252000</td>\n",
       "      <td>270237.398911</td>\n",
       "    </tr>\n",
       "    <tr>\n",
       "      <th>1</th>\n",
       "      <td>297000</td>\n",
       "      <td>293808.146148</td>\n",
       "    </tr>\n",
       "    <tr>\n",
       "      <th>2</th>\n",
       "      <td>127000</td>\n",
       "      <td>119634.166237</td>\n",
       "    </tr>\n",
       "    <tr>\n",
       "      <th>3</th>\n",
       "      <td>149900</td>\n",
       "      <td>141696.131874</td>\n",
       "    </tr>\n",
       "    <tr>\n",
       "      <th>4</th>\n",
       "      <td>195000</td>\n",
       "      <td>201812.131681</td>\n",
       "    </tr>\n",
       "  </tbody>\n",
       "</table>\n",
       "</div>"
      ],
      "text/plain": [
       "   Actual      Predicted\n",
       "0  252000  270237.398911\n",
       "1  297000  293808.146148\n",
       "2  127000  119634.166237\n",
       "3  149900  141696.131874\n",
       "4  195000  201812.131681"
      ]
     },
     "execution_count": 24,
     "metadata": {},
     "output_type": "execute_result"
    }
   ],
   "source": [
    "y_pred = regressor.predict(X_test)\n",
    "\n",
    "df = pd.DataFrame({'Actual': y_test.flatten(), 'Predicted': y_pred.flatten()})\n",
    "df.head()"
   ]
  },
  {
   "cell_type": "code",
   "execution_count": 79,
   "metadata": {},
   "outputs": [
    {
     "data": {
      "image/png": "[encoded data removed]",
      "text/plain": [
       "<Figure size 1152x576 with 1 Axes>"
      ]
     },
     "metadata": {},
     "output_type": "display_data"
    }
   ],
   "source": [
    "import matplotlib.pyplot as plt  \n",
    "\n",
    "df1 = df.head(25)\n",
    "df1.plot(kind='bar',figsize=(16,8))\n",
    "plt.grid(which='major', linestyle='-', linewidth='0.5', color='green')\n",
    "plt.grid(which='minor', linestyle=':', linewidth='0.5', color='black')\n",
    "plt.show()"
   ]
  },
  {
   "cell_type": "code",
   "execution_count": 27,
   "metadata": {},
   "outputs": [
    {
     "name": "stdout",
     "output_type": "stream",
     "text": [
      "Random Forest MSE train: 133545907.400, test: 587204507.240\n",
      "Random Forest R^2 train: 0.980, test: 0.891\n"
     ]
    }
   ],
   "source": [
    "#X_train, X_test, y_train, y_test\n",
    "#train RF regressor model\n",
    "from sklearn.ensemble import RandomForestRegressor\n",
    "from sklearn.metrics import r2_score, mean_squared_error\n",
    "\n",
    "RAND_STATE = 42\n",
    "\n",
    "forest = RandomForestRegressor(n_estimators=500, \n",
    "                               criterion='mse', \n",
    "                               random_state=RAND_STATE, \n",
    "                               n_jobs=-1)\n",
    "forest.fit(X_train, y_train.squeeze())\n",
    "\n",
    "#calculate scores for the model\n",
    "y_train_preds = forest.predict(X_train)\n",
    "y_test_preds = forest.predict(X_test)\n",
    "\n",
    "print('Random Forest MSE train: %.3f, test: %.3f' % (\n",
    "        mean_squared_error(y_train, y_train_preds),\n",
    "        mean_squared_error(y_test, y_test_preds)))\n",
    "print('Random Forest R^2 train: %.3f, test: %.3f' % (\n",
    "        r2_score(y_train, y_train_preds),\n",
    "        r2_score(y_test, y_test_preds)))"
   ]
  },
  {
   "cell_type": "code",
   "execution_count": null,
   "metadata": {},
   "outputs": [],
   "source": []
  },
  {
   "cell_type": "code",
   "execution_count": 80,
   "metadata": {},
   "outputs": [
    {
     "data": {
      "image/png": "[encoded data removed]",
      "text/plain": [
       "<Figure size 1152x576 with 1 Axes>"
      ]
     },
     "metadata": {},
     "output_type": "display_data"
    }
   ],
   "source": [
    "#Plot barplot for actual vs predicted\n",
    "df_rf= pd.DataFrame({'Actual': y_test.flatten(), 'Predicted': y_test_preds.flatten()})\n",
    "\n",
    "\n",
    "df_rf = df.head(25)\n",
    "df_rf.plot(kind='bar',figsize=(16,8))\n",
    "plt.grid(which='major', linestyle='-', linewidth='0.5', color='green')\n",
    "plt.grid(which='minor', linestyle=':', linewidth='0.5', color='black')\n",
    "plt.show()"
   ]
  },
  {
   "cell_type": "code",
   "execution_count": 66,
   "metadata": {},
   "outputs": [
    {
     "name": "stderr",
     "output_type": "stream",
     "text": [
      "C:\\Users\\akash\\Anaconda3\\lib\\site-packages\\sklearn\\model_selection\\_split.py:1978: FutureWarning: The default value of cv will change from 3 to 5 in version 0.22. Specify it explicitly to silence this warning.\n",
      "  warnings.warn(CV_WARNING, FutureWarning)\n"
     ]
    },
    {
     "name": "stdout",
     "output_type": "stream",
     "text": [
      "Best alpha using built-in LassoCV: 210921.041099\n",
      "Best score using built-in LassoCV: 0.724739\n"
     ]
    }
   ],
   "source": [
    "\n",
    "y=full_housing_train_multi_var.iloc[:,0]\n",
    "X=full_housing_train_multi_var.iloc[:,1:]\n",
    "\n",
    "reg = LassoCV()\n",
    "reg.fit(X, y)\n",
    "print(\"Best alpha using built-in LassoCV: %f\" % reg.alpha_)\n",
    "print(\"Best score using built-in LassoCV: %f\" %reg.score(X,y))\n",
    "coef = pd.Series(reg.coef_, index = X.columns)"
   ]
  },
  {
   "cell_type": "code",
   "execution_count": 67,
   "metadata": {},
   "outputs": [
    {
     "name": "stdout",
     "output_type": "stream",
     "text": [
      "Lasso picked 11 variables and eliminated the other 263 variables\n"
     ]
    }
   ],
   "source": [
    "print(\"Lasso picked \" + str(sum(coef != 0)) + \" variables and eliminated the other \" +  str(sum(coef == 0)) + \" variables\")"
   ]
  },
  {
   "cell_type": "code",
   "execution_count": 68,
   "metadata": {},
   "outputs": [
    {
     "data": {
      "text/plain": [
       "Text(0.5,1,'Feature importance using Lasso Model')"
      ]
     },
     "execution_count": 68,
     "metadata": {},
     "output_type": "execute_result"
    },
    {
     "data": {
      "image/png": "[encoded data removed]",
      "text/plain": [
       "<Figure size 1440x7200 with 1 Axes>"
      ]
     },
     "metadata": {},
     "output_type": "display_data"
    }
   ],
   "source": [
    "\n",
    "imp_coef = coef.sort_values()\n",
    "import matplotlib\n",
    "matplotlib.rcParams['figure.figsize'] = (20.0, 100.0)\n",
    "imp_coef.plot(kind = \"barh\")\n",
    "plt.title(\"Feature importance using Lasso Model\")\n"
   ]
  },
  {
   "cell_type": "code",
   "execution_count": 78,
   "metadata": {},
   "outputs": [
    {
     "data": {
      "text/plain": [
       "MSSubClass       False\n",
       "LotFrontage      False\n",
       "LotArea           True\n",
       "OverallQual      False\n",
       "OverallCond      False\n",
       "YearBuilt         True\n",
       "YearRemodAdd      True\n",
       "MasVnrArea        True\n",
       "BsmtFinSF1        True\n",
       "BsmtFinSF2       False\n",
       "BsmtUnfSF        False\n",
       "TotalBsmtSF       True\n",
       "1stFlrSF         False\n",
       "2ndFlrSF          True\n",
       "LowQualFinSF     False\n",
       "GrLivArea         True\n",
       "BsmtFullBath     False\n",
       "BsmtHalfBath     False\n",
       "FullBath         False\n",
       "HalfBath         False\n",
       "BedroomAbvGr     False\n",
       "KitchenAbvGr     False\n",
       "TotRmsAbvGrd     False\n",
       "Fireplaces       False\n",
       "GarageYrBlt      False\n",
       "GarageCars       False\n",
       "GarageArea        True\n",
       "WoodDeckSF        True\n",
       "OpenPorchSF      False\n",
       "EnclosedPorch    False\n",
       "                 ...  \n",
       "210              False\n",
       "211              False\n",
       "212              False\n",
       "213              False\n",
       "215              False\n",
       "216              False\n",
       "217              False\n",
       "219              False\n",
       "220              False\n",
       "221              False\n",
       "222              False\n",
       "223              False\n",
       "227              False\n",
       "228              False\n",
       "229              False\n",
       "232              False\n",
       "233              False\n",
       "235              False\n",
       "236              False\n",
       "237              False\n",
       "238              False\n",
       "239              False\n",
       "240              False\n",
       "241              False\n",
       "242              False\n",
       "244              False\n",
       "245              False\n",
       "246              False\n",
       "247              False\n",
       "248              False\n",
       "Length: 274, dtype: bool"
      ]
     },
     "execution_count": 78,
     "metadata": {},
     "output_type": "execute_result"
    }
   ],
   "source": [
    "coef != 0"
   ]
  },
  {
   "cell_type": "code",
   "execution_count": null,
   "metadata": {},
   "outputs": [],
   "source": []
  },
  {
   "cell_type": "code",
   "execution_count": 82,
   "metadata": {},
   "outputs": [
    {
     "name": "stdout",
     "output_type": "stream",
     "text": [
      "Random Forest MSE train: 148461011.882, test: 570827310.051\n",
      "Random Forest R^2 train: 0.977, test: 0.894\n"
     ]
    }
   ],
   "source": [
    "#same for Random forest, this is because random forest automatically do feature selection and make the coefficient zero for the\n",
    "#unwanted features\n",
    "\n",
    "#X_train, X_test, y_train, y_test\n",
    "#train RF regressor model\n",
    "from sklearn.ensemble import RandomForestRegressor\n",
    "from sklearn.metrics import r2_score, mean_squared_error\n",
    "\n",
    "full_housing_train_multi_var[selected_features_BE]\n",
    "\n",
    "#1. Make feature matrix and predictor separate\n",
    "y=full_housing_train_multi_var.iloc[:,0].values\n",
    "X=full_housing_train_multi_var[selected_features_BE].values\n",
    "\n",
    "#2. train_test_split\n",
    "X_train, X_test, y_train, y_test = train_test_split(X, y, test_size=0.2, random_state=0)\n",
    "\n",
    "RAND_STATE = 42\n",
    "\n",
    "forest = RandomForestRegressor(n_estimators=100, \n",
    "                               criterion='mse', \n",
    "                               random_state=RAND_STATE, \n",
    "                               n_jobs=-1)\n",
    "forest.fit(X_train, y_train.squeeze())\n",
    "\n",
    "#calculate scores for the model\n",
    "y_train_preds = forest.predict(X_train)\n",
    "y_test_preds = forest.predict(X_test)\n",
    "\n",
    "print('Random Forest MSE train: %.3f, test: %.3f' % (\n",
    "        mean_squared_error(y_train, y_train_preds),\n",
    "        mean_squared_error(y_test, y_test_preds)))\n",
    "print('Random Forest R^2 train: %.3f, test: %.3f' % (\n",
    "        r2_score(y_train, y_train_preds),\n",
    "        r2_score(y_test, y_test_preds)))"
   ]
  },
  {
   "cell_type": "code",
   "execution_count": 86,
   "metadata": {},
   "outputs": [
    {
     "name": "stdout",
     "output_type": "stream",
     "text": [
      "Lasso Regression MSE train: 1265541167.084, test: 633010946.805\n",
      "Lasso Regression R^2 train: 0.806, test: 0.883\n"
     ]
    }
   ],
   "source": [
    "#Lasso\n",
    "\n",
    "from sklearn.linear_model import LassoCV, ElasticNetCV, RidgeCV, Lasso\n",
    "from sklearn.impute import SimpleImputer\n",
    "from sklearn.pipeline import Pipeline\n",
    "from sklearn.preprocessing import StandardScaler\n",
    "from sklearn.compose import ColumnTransformer\n",
    "\n",
    "lasso = Lasso()\n",
    "lasso.fit(X_train, y_train.squeeze())\n",
    "#calculate scores for the model\n",
    "y_train_preds = lasso.predict(X_train)\n",
    "y_test_preds = lasso.predict(X_test)\n",
    "\n",
    "print('Lasso Regression MSE train: %.3f, test: %.3f' % (\n",
    "        mean_squared_error(y_train, y_train_preds),\n",
    "        mean_squared_error(y_test, y_test_preds)))\n",
    "print('Lasso Regression R^2 train: %.3f, test: %.3f' % (\n",
    "        r2_score(y_train, y_train_preds),\n",
    "        r2_score(y_test, y_test_preds)))"
   ]
  },
  {
   "cell_type": "code",
   "execution_count": 1,
   "metadata": {},
   "outputs": [
    {
     "ename": "NameError",
     "evalue": "name 'X_train' is not defined",
     "output_type": "error",
     "traceback": [
      "\u001b[1;31m---------------------------------------------------------------------------\u001b[0m",
      "\u001b[1;31mNameError\u001b[0m                                 Traceback (most recent call last)",
      "\u001b[1;32m<ipython-input-1-a989559a7e3b>\u001b[0m in \u001b[0;36m<module>\u001b[1;34m()\u001b[0m\n\u001b[0;32m      8\u001b[0m \u001b[1;33m\u001b[0m\u001b[0m\n\u001b[0;32m      9\u001b[0m \u001b[0mlasso\u001b[0m \u001b[1;33m=\u001b[0m \u001b[0mLassoCV\u001b[0m\u001b[1;33m(\u001b[0m\u001b[0mcv\u001b[0m \u001b[1;33m=\u001b[0m \u001b[1;36m10\u001b[0m\u001b[1;33m)\u001b[0m\u001b[1;33m\u001b[0m\u001b[0m\n\u001b[1;32m---> 10\u001b[1;33m \u001b[0mlasso\u001b[0m\u001b[1;33m.\u001b[0m\u001b[0mfit\u001b[0m\u001b[1;33m(\u001b[0m\u001b[0mX_train\u001b[0m\u001b[1;33m,\u001b[0m \u001b[0my_train\u001b[0m\u001b[1;33m.\u001b[0m\u001b[0msqueeze\u001b[0m\u001b[1;33m(\u001b[0m\u001b[1;33m)\u001b[0m\u001b[1;33m)\u001b[0m\u001b[1;33m\u001b[0m\u001b[0m\n\u001b[0m\u001b[0;32m     11\u001b[0m \u001b[1;31m#calculate scores for the model\u001b[0m\u001b[1;33m\u001b[0m\u001b[1;33m\u001b[0m\u001b[0m\n\u001b[0;32m     12\u001b[0m \u001b[0my_train_preds\u001b[0m \u001b[1;33m=\u001b[0m \u001b[0mlasso\u001b[0m\u001b[1;33m.\u001b[0m\u001b[0mpredict\u001b[0m\u001b[1;33m(\u001b[0m\u001b[0mX_train\u001b[0m\u001b[1;33m)\u001b[0m\u001b[1;33m\u001b[0m\u001b[0m\n",
      "\u001b[1;31mNameError\u001b[0m: name 'X_train' is not defined"
     ]
    }
   ],
   "source": [
    "#Lasso CV\n",
    "\n",
    "from sklearn.linear_model import LassoCV, ElasticNetCV, RidgeCV\n",
    "from sklearn.impute import SimpleImputer\n",
    "from sklearn.pipeline import Pipeline\n",
    "from sklearn.preprocessing import StandardScaler\n",
    "from sklearn.compose import ColumnTransformer\n",
    "\n",
    "\n",
    "lasso = LassoCV(cv = 10)\n",
    "lasso.fit(X_train, y_train.squeeze())\n",
    "#calculate scores for the model\n",
    "y_train_preds = lasso.predict(X_train)\n",
    "y_test_preds = lasso.predict(X_test)\n",
    "\n",
    "print('Lasso Regression MSE train: %.3f, test: %.3f' % (\n",
    "        mean_squared_error(y_train, y_train_preds),\n",
    "        mean_squared_error(y_test, y_test_preds)))\n",
    "print('Lasso Regression R^2 train: %.3f, test: %.3f' % (\n",
    "        r2_score(y_train, y_train_preds),\n",
    "        r2_score(y_test, y_test_preds)))\n"
   ]
  },
  {
   "cell_type": "code",
   "execution_count": null,
   "metadata": {},
   "outputs": [],
   "source": []
  },
  {
   "cell_type": "code",
   "execution_count": null,
   "metadata": {},
   "outputs": [],
   "source": []
  },
  {
   "cell_type": "code",
   "execution_count": 160,
   "metadata": {},
   "outputs": [],
   "source": [
    "\n"
   ]
  }
 ],
 "metadata": {
  "kernelspec": {
   "display_name": "Python 3",
   "language": "python",
   "name": "python3"
  },
  "language_info": {
   "codemirror_mode": {
    "name": "ipython",
    "version": 3
   },
   "file_extension": ".py",
   "mimetype": "text/x-python",
   "name": "python",
   "nbconvert_exporter": "python",
   "pygments_lexer": "ipython3",
   "version": "3.6.4"
  }
 },
 "nbformat": 4,
 "nbformat_minor": 2
}
